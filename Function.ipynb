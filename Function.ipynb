{
  "nbformat": 4,
  "nbformat_minor": 0,
  "metadata": {
    "colab": {
      "provenance": []
    },
    "kernelspec": {
      "name": "python3",
      "display_name": "Python 3"
    },
    "language_info": {
      "name": "python"
    }
  },
  "cells": [
    {
      "cell_type": "markdown",
      "source": [
        "#***Theory Questions:***"
      ],
      "metadata": {
        "id": "tN_sLQcvYj4W"
      }
    },
    {
      "cell_type": "markdown",
      "source": [
        "1. What is the difference between a function and a method in Python?\n",
        "\n",
        "- A function is a block of reusable code that performs a specific task. It exists independently and is not associated with any object or class. A method, on the other hand, is a function that belongs to an object or class. It is defined within a class and can access and modify the data (attributes) of that class. Methods are called using dot notation on an object.\n",
        "\n",
        "- `Example:`"
      ],
      "metadata": {
        "id": "jGOrqVOGqHTA"
      }
    },
    {
      "cell_type": "code",
      "source": [
        "# Function\n",
        "def greet_function(name):\n",
        "    return f\"Hello, {name}!\"\n",
        "\n",
        "# Method\n",
        "class Person:\n",
        "    def __init__(self, name):\n",
        "        self.name = name\n",
        "\n",
        "    def greet_method(self):  # This is a method\n",
        "        return f\"Hello, {self.name}!\"\n",
        "\n",
        "# Calling them\n",
        "print(greet_function(\"Harsh\"))  # Output: Hello, Harsh!\n",
        "\n",
        "person = Person(\"Vishnu\")\n",
        "print(person.greet_method())  # Output: Hello, Vishnu!"
      ],
      "metadata": {
        "id": "gIfUMTKSW2Qq"
      },
      "execution_count": null,
      "outputs": []
    },
    {
      "cell_type": "markdown",
      "source": [
        "2. Explain the concept of function arguments and parameters in Python.\n",
        "\n",
        "- In Python, parameters are the variable names listed inside the parentheses in a function's definition. They act as placeholders for the values that will be passed into the function. Arguments are the actual values passed to the function when it is called.\n",
        "\n",
        "- `Example:`"
      ],
      "metadata": {
        "id": "xlJsTt8DopPl"
      }
    },
    {
      "cell_type": "code",
      "source": [
        "def add_numbers(x, y):  # x and y are parameters\n",
        "    return x + y\n",
        "\n",
        "result = add_numbers(5, 10)  # 5 and 10 are arguments\n",
        "print(result) # Output: 15"
      ],
      "metadata": {
        "id": "0btX2KRIXk-H"
      },
      "execution_count": null,
      "outputs": []
    },
    {
      "cell_type": "markdown",
      "source": [
        "3. What are the different ways to define and call a function in Python?\n",
        "- A function is defined using the def keyword, followed by the function name, parentheses (), and a colon :. The function body is indented. A function is called by writing its name followed by parentheses (), with any required arguments inside.\n",
        "\n",
        "- `Example:`"
      ],
      "metadata": {
        "id": "nzPnxbT4XoFi"
      }
    },
    {
      "cell_type": "code",
      "source": [
        "# Definition\n",
        "def multiply(a, b):\n",
        "    return a * b\n",
        "\n",
        "# Call\n",
        "product = multiply(4, 5)\n",
        "print(product) # Output: 20"
      ],
      "metadata": {
        "id": "BacBd8scYUvQ"
      },
      "execution_count": null,
      "outputs": []
    },
    {
      "cell_type": "markdown",
      "source": [
        "4. What is the purpose of the `return` statement in a Python function?\n",
        "\n",
        "- The return statement is used to exit a function and pass a value back to the caller. When a return statement is executed, the function immediately terminates. If no value is specified, or if return is omitted, the function returns None by default.\n",
        "\n",
        "- `Example:`"
      ],
      "metadata": {
        "id": "_ldghQxrYc9I"
      }
    },
    {
      "cell_type": "code",
      "source": [
        "def check_even(number):\n",
        "    if number % 2 == 0:\n",
        "        return True  # Returns a value and exits\n",
        "    else:\n",
        "        return False\n",
        "\n",
        "print(check_even(8))  # Output: True\n",
        "print(check_even(7))  # Output: False"
      ],
      "metadata": {
        "id": "PduHxlokZQuJ"
      },
      "execution_count": null,
      "outputs": []
    },
    {
      "cell_type": "markdown",
      "source": [
        "5. What are iterators in Python and how do they differ from iterables?\n",
        "\n",
        "- An iterable is any object that can be iterated over, such as a list, tuple, or string. It has an __iter__() method that returns an iterator. An iterator is an object with a __next__() method that returns the next item from the iterable. When there are no more items, it raises a StopIteration exception.\n",
        "\n",
        "- `Example:`\n",
        "\n"
      ],
      "metadata": {
        "id": "vyi4Ct4_ZSnZ"
      }
    },
    {
      "cell_type": "code",
      "source": [
        "# A list is an iterable\n",
        "my_list = [1, 2, 3]\n",
        "\n",
        "# Getting an iterator from the iterable\n",
        "my_iterator = iter(my_list)\n",
        "\n",
        "# Using the iterator\n",
        "print(next(my_iterator))  # Output: 1\n",
        "print(next(my_iterator))  # Output: 2\n",
        "print(next(my_iterator))  # Output: 3\n",
        "# next(my_iterator) would raise StopIteration"
      ],
      "metadata": {
        "id": "NICVQHu7bGb_"
      },
      "execution_count": null,
      "outputs": []
    },
    {
      "cell_type": "markdown",
      "source": [
        "6. Explain the concept of generators in Python and how they are defined.\n",
        "\n",
        "- A generator is a special type of function that returns an iterator. Instead of using return to pass back a single value and exit, it uses the yield keyword to produce a series of values one at a time. The state of the generator is saved between each yield, allowing it to resume execution from where it left off.\n",
        "\n",
        "- `Example:`"
      ],
      "metadata": {
        "id": "vpVDXCSxbcAT"
      }
    },
    {
      "cell_type": "code",
      "source": [
        "def count_up_to(n):\n",
        "    i = 1\n",
        "    while i <= n:\n",
        "        yield i  # Pauses execution and returns i\n",
        "        i += 1\n",
        "\n",
        "# Creating a generator object\n",
        "counter = count_up_to(3)\n",
        "\n",
        "# Iterating over the generator\n",
        "print(next(counter))  # Output: 1\n",
        "print(next(counter))  # Output: 2\n",
        "print(next(counter))  # Output: 3"
      ],
      "metadata": {
        "id": "6ikjeByIbnm5"
      },
      "execution_count": null,
      "outputs": []
    },
    {
      "cell_type": "markdown",
      "source": [
        "7. What are the advantages of using generators over regular functions?\n",
        "\n",
        "- Generators are more memory-efficient than regular functions, especially for large datasets, because they produce items one by one (lazy evaluation) rather than generating and storing all items in memory at once. They are also useful for creating infinite sequences.\n",
        "\n",
        "\n",
        "- `Example:`"
      ],
      "metadata": {
        "id": "BAB-jtNvbpTo"
      }
    },
    {
      "cell_type": "code",
      "source": [
        "# Regular function (consumes more memory)\n",
        "def create_list(n):\n",
        "    my_list = []\n",
        "    for i in range(n):\n",
        "        my_list.append(i)\n",
        "    return my_list\n",
        "\n",
        "# Generator (consumes less memory)\n",
        "def create_generator(n):\n",
        "    for i in range(n):\n",
        "        yield i\n",
        "\n",
        "# The generator will not create all 1,000,000 numbers in memory at once\n",
        "my_generator = create_generator(1_000_000)"
      ],
      "metadata": {
        "id": "c-TxfczhiiIJ"
      },
      "execution_count": null,
      "outputs": []
    },
    {
      "cell_type": "markdown",
      "source": [
        "8. What is a lambda function in Python and when is it typically used?\n",
        "\n",
        "- A lambda function (or anonymous function) is a small, single-expression function that doesn't have a name. It is defined using the lambda keyword. Lambda functions are often used when a simple function is needed for a short period, such as an argument to a higher-order function like map(), filter(), or sorted().\n",
        "\n",
        "-`Example:`"
      ],
      "metadata": {
        "id": "bcVCUZEZikHf"
      }
    },
    {
      "cell_type": "code",
      "source": [
        "# A lambda function to add two numbers\n",
        "add_lambda = lambda x, y: x + y\n",
        "print(add_lambda(5, 3))  # Output: 8\n",
        "\n",
        "# A lambda function used with sorted()\n",
        "points = [{'x': 2, 'y': 3}, {'x': 4, 'y': 1}]\n",
        "sorted_points = sorted(points, key=lambda p: p['y'])\n",
        "print(sorted_points) # Output: [{'x': 4, 'y': 1}, {'x': 2, 'y':"
      ],
      "metadata": {
        "id": "lwO9P-a6i1yT"
      },
      "execution_count": null,
      "outputs": []
    },
    {
      "cell_type": "markdown",
      "source": [
        "9. Explain the purpose and usage of the `map()` function in Python.\n",
        "\n",
        "- The map() function applies a given function to each item of an iterable and returns a map object (an iterator) that yields the results. It is useful for performing the same operation on all elements of a collection without using a for loop\n",
        "\n",
        "- `Example:`"
      ],
      "metadata": {
        "id": "dWSp7HnekM0P"
      }
    },
    {
      "cell_type": "code",
      "source": [
        "numbers = [1, 2, 3, 4]\n",
        "squared_numbers = map(lambda x: x * x, numbers)\n",
        "\n",
        "print(list(squared_numbers))  # Output: [1, 4, 9, 16]"
      ],
      "metadata": {
        "id": "Ej593afulrkQ"
      },
      "execution_count": null,
      "outputs": []
    },
    {
      "cell_type": "markdown",
      "source": [
        "10. What is the difference between `map()`, `reduce()`, and `filter()` functions in Python?\n",
        "\n",
        "-`map()`, `reduce()`, and `filter()`\n",
        "\n",
        "- map(): Transforms each item in an iterable. It applies a function to every item and returns a new iterable with the modified items.\n",
        "\n",
        "- filter(): Filters items based on a condition. It applies a function that returns a boolean to each item and returns a new iterable with only the items for which the function returned True.\n",
        "\n",
        "- reduce(): Reduces an iterable to a single value. It applies a function cumulatively to the items of an iterable, from left to right, to compute a single result. It requires importing functools.\n",
        "\n",
        "- `Example:`"
      ],
      "metadata": {
        "id": "N3uIwJY0lyfY"
      }
    },
    {
      "cell_type": "code",
      "source": [
        "from functools import reduce\n",
        "\n",
        "numbers = [1, 2, 3, 4, 5, 6]\n",
        "\n",
        "# map(): Square each number\n",
        "mapped_numbers = list(map(lambda x: x * x, numbers))\n",
        "print(f\"Mapped: {mapped_numbers}\")  # Output: Mapped: [1, 4, 9, 16, 25, 36]\n",
        "\n",
        "# filter(): Keep only even numbers\n",
        "filtered_numbers = list(filter(lambda x: x % 2 == 0, numbers))\n",
        "print(f\"Filtered: {filtered_numbers}\")  # Output: Filtered: [2, 4, 6]\n",
        "\n",
        "# reduce(): Sum all numbers\n",
        "sum_of_numbers = reduce(lambda x, y: x + y, numbers)\n",
        "print(f\"Reduced: {sum_of_numbers}\")  # Output: Reduced: 21"
      ],
      "metadata": {
        "id": "5FHufvtPmP_n"
      },
      "execution_count": null,
      "outputs": []
    },
    {
      "cell_type": "markdown",
      "source": [
        "#***Practical Questions:***"
      ],
      "metadata": {
        "id": "I2jX-Nye5N3q"
      }
    },
    {
      "cell_type": "markdown",
      "source": [
        "1. Write a Python function that takes a list of numbers as input and returns the sum of all even numbers in\n",
        "the list."
      ],
      "metadata": {
        "id": "fUwzkDjy5Uqh"
      }
    },
    {
      "cell_type": "code",
      "source": [
        "def sum_even_numbers(numbers):\n",
        "    \"\"\"\n",
        "    Calculates the sum of all even numbers in a list.\n",
        "    \"\"\"\n",
        "    total = 0\n",
        "    for number in numbers:\n",
        "        if number % 2 == 0:\n",
        "            total += number\n",
        "    return total\n",
        "\n",
        "# Example:\n",
        "my_list = [1, 2, 3, 4, 5, 6, 7, 8, 9, 10]\n",
        "even_sum = sum_even_numbers(my_list)\n",
        "print(f\"The sum of even numbers in {my_list} is: {even_sum}\")\n",
        "# Output: The sum of even numbers in [1, 2, 3, 4, 5, 6, 7, 8, 9, 10] is: 30"
      ],
      "metadata": {
        "id": "SU19hSn75bdP"
      },
      "execution_count": null,
      "outputs": []
    },
    {
      "cell_type": "markdown",
      "source": [
        "2. Create a Python function that accepts a string and returns the reverse of that string."
      ],
      "metadata": {
        "id": "R86gjZZa5hE0"
      }
    },
    {
      "cell_type": "code",
      "source": [
        "def reverse_string(s):\n",
        "    \"\"\"\n",
        "    Reverses a given string.\n",
        "    \"\"\"\n",
        "    return s[::-1]\n",
        "\n",
        "# Example:\n",
        "my_string = \"hello world\"\n",
        "reversed_string = reverse_string(my_string)\n",
        "print(f\"The reversed string is: {reversed_string}\")\n",
        "# Output: The reversed string is: dlrow olleh"
      ],
      "metadata": {
        "id": "KsF5A22N5lXE"
      },
      "execution_count": null,
      "outputs": []
    },
    {
      "cell_type": "markdown",
      "source": [
        "3. Implement a Python function that takes a list of integers and returns a new list containing the squares of\n",
        "each number."
      ],
      "metadata": {
        "id": "MpZZ8qWf5oCa"
      }
    },
    {
      "cell_type": "code",
      "source": [
        "def square_numbers(numbers):\n",
        "    \"\"\"\n",
        "    Returns a new list with the squares of each number.\n",
        "    \"\"\"\n",
        "    squared_list = []\n",
        "    for number in numbers:\n",
        "        squared_list.append(number ** 2)\n",
        "    return squared_list\n",
        "\n",
        "# Example:\n",
        "my_list = [1, 2, 3, 4, 5]\n",
        "squares = square_numbers(my_list)\n",
        "print(f\"The squares of {my_list} are: {squares}\")\n",
        "# Output: The squares of [1, 2, 3, 4, 5] are: [1, 4, 9, 16, 25]"
      ],
      "metadata": {
        "id": "ZEP4UHTX5t5P"
      },
      "execution_count": null,
      "outputs": []
    },
    {
      "cell_type": "markdown",
      "source": [
        "4. Write a Python function that checks if a given number is prime or not from 1 to 200."
      ],
      "metadata": {
        "id": "wMlv-9aD5wwb"
      }
    },
    {
      "cell_type": "code",
      "source": [
        "def is_prime(number):\n",
        "    \"\"\"\n",
        "    Checks if a number is prime.\n",
        "    \"\"\"\n",
        "    if number <= 1:\n",
        "        return False\n",
        "    for i in range(2, int(number**0.5) + 1):\n",
        "        if number % i == 0:\n",
        "            return False\n",
        "    return True\n",
        "\n",
        "# Example (for numbers up to 200):\n",
        "for num in range(1, 21):\n",
        "    if is_prime(num):\n",
        "        print(f\"{num} is a prime number.\")\n",
        "    else:\n",
        "        print(f\"{num} is not a prime number.\")"
      ],
      "metadata": {
        "id": "CWOI4W1Z5xGH"
      },
      "execution_count": null,
      "outputs": []
    },
    {
      "cell_type": "markdown",
      "source": [
        "5. Create an iterator class in Python that generates the Fibonacci sequence up to a specified number of terms."
      ],
      "metadata": {
        "id": "lPVZ5S9Z5xgt"
      }
    },
    {
      "cell_type": "code",
      "source": [
        "class FibonacciIterator:\n",
        "    \"\"\"\n",
        "    An iterator that generates the Fibonacci sequence up to a specified number of terms.\n",
        "    \"\"\"\n",
        "    def __init__(self, n):\n",
        "        self.n = n\n",
        "        self.count = 0\n",
        "        self.a, self.b = 0, 1\n",
        "\n",
        "    def __iter__(self):\n",
        "        return self\n",
        "\n",
        "    def __next__(self):\n",
        "        if self.count >= self.n:\n",
        "            raise StopIteration\n",
        "\n",
        "        result = self.a\n",
        "        self.a, self.b = self.b, self.a + self.b\n",
        "        self.count += 1\n",
        "        return result\n",
        "\n",
        "# Example:\n",
        "fib_seq = FibonacciIterator(10)\n",
        "print(\"Fibonacci sequence up to 10 terms:\")\n",
        "for num in fib_seq:\n",
        "    print(num, end=\" \")\n",
        "# Output: 0 1 1 2 3 5 8 13 21 34"
      ],
      "metadata": {
        "id": "fcwRdY635yCw"
      },
      "execution_count": null,
      "outputs": []
    },
    {
      "cell_type": "markdown",
      "source": [
        "6. Write a generator function in Python that yields the powers of 2 up to a given exponent."
      ],
      "metadata": {
        "id": "ADtOv_UN7Sbz"
      }
    },
    {
      "cell_type": "code",
      "source": [
        "def powers_of_two_generator(exponent):\n",
        "    \"\"\"\n",
        "    Generates powers of 2 up to a given exponent.\n",
        "    \"\"\"\n",
        "    power = 0\n",
        "    while power <= exponent:\n",
        "        yield 2 ** power\n",
        "        power += 1\n",
        "\n",
        "# Example:\n",
        "powers = powers_of_two_generator(5)\n",
        "print(\"\\nPowers of 2 up to exponent 5:\")\n",
        "for p in powers:\n",
        "    print(p, end=\" \")\n",
        "# Output: 1 2 4 8 16 32"
      ],
      "metadata": {
        "id": "YdL3E10e7S9C"
      },
      "execution_count": null,
      "outputs": []
    },
    {
      "cell_type": "markdown",
      "source": [
        "7. Implement a generator function that reads a file line by line and yields each line as a string."
      ],
      "metadata": {
        "id": "7PEe5dsh7YHy"
      }
    },
    {
      "cell_type": "code",
      "source": [
        "def read_file_lines(filename):\n",
        "    \"\"\"\n",
        "    Generator function that reads a file line by line.\n",
        "    \"\"\"\n",
        "    try:\n",
        "        with open(filename, 'r') as file:\n",
        "            for line in file:\n",
        "                yield line.strip()\n",
        "    except FileNotFoundError:\n",
        "        print(f\"Error: The file '{filename}' was not found.\")\n",
        "\n",
        "# Example (assuming a file named 'example.txt' exists with some lines):\n",
        "# Create a dummy file for the example\n",
        "with open(\"example.txt\", \"w\") as f:\n",
        "    f.write(\"First line\\n\")\n",
        "    f.write(\"Second line\\n\")\n",
        "    f.write(\"Third line\")\n",
        "\n",
        "# Use the generator\n",
        "file_lines = read_file_lines(\"example.txt\")\n",
        "print(\"\\nReading file lines using a generator:\")\n",
        "for line in file_lines:\n",
        "    print(line)"
      ],
      "metadata": {
        "id": "pqW3-aJr7WSE"
      },
      "execution_count": null,
      "outputs": []
    },
    {
      "cell_type": "markdown",
      "source": [
        "8. Use a lambda function in Python to sort a list of tuples based on the second element of each tuple."
      ],
      "metadata": {
        "id": "6tuL5dN_7U2-"
      }
    },
    {
      "cell_type": "code",
      "source": [
        "data = [('apple', 3), ('banana', 1), ('cherry', 5), ('date', 2)]\n",
        "\n",
        "# Use a lambda function as the key to sort by the second element (index 1)\n",
        "sorted_data = sorted(data, key=lambda x: x[1])\n",
        "\n",
        "print(\"Original list of tuples:\")\n",
        "print(data)\n",
        "print(\"\\nSorted list based on the second element:\")\n",
        "print(sorted_data)\n",
        "# Output:\n",
        "# Original list of tuples:\n",
        "# [('apple', 3), ('banana', 1), ('cherry', 5), ('date', 2)]\n",
        "#\n",
        "# Sorted list based on the second element:\n",
        "# [('banana', 1), ('date', 2), ('apple', 3), ('cherry', 5)]"
      ],
      "metadata": {
        "id": "xfFaiCNX7T28"
      },
      "execution_count": null,
      "outputs": []
    },
    {
      "cell_type": "markdown",
      "source": [],
      "metadata": {
        "id": "BnxUmPgQ7TqL"
      }
    },
    {
      "cell_type": "code",
      "source": [
        "celsius_temps = [0, 10, 20, 30, 40]\n",
        "\n",
        "# Lambda function for the conversion formula: (C * 9/5) + 32\n",
        "fahrenheit_temps = list(map(lambda c: (c * 9/5) + 32, celsius_temps))\n",
        "\n",
        "print(\"Celsius temperatures:\", celsius_temps)\n",
        "print(\"Fahrenheit temperatures:\", fahrenheit_temps)\n",
        "# Output:\n",
        "# Celsius temperatures: [0, 10, 20, 30, 40]\n",
        "# Fahrenheit temperatures: [32.0, 50.0, 68.0, 86.0, 104.0]"
      ],
      "metadata": {
        "id": "COsMDrCw7Z-t"
      },
      "execution_count": null,
      "outputs": []
    },
    {
      "cell_type": "markdown",
      "source": [
        "10. Create a Python program that uses `filter()` to remove all the vowels from a given string."
      ],
      "metadata": {
        "id": "6BgsZBlu-OPU"
      }
    },
    {
      "cell_type": "code",
      "source": [
        "my_string = \"hello world\"\n",
        "vowels = \"aeiouAEIOU\"\n",
        "\n",
        "# Use filter() with a lambda to keep characters that are NOT vowels\n",
        "filtered_chars = filter(lambda char: char not in vowels, my_string)\n",
        "\n",
        "# Join the filtered characters back into a string\n",
        "result_string = \"\".join(filtered_chars)\n",
        "\n",
        "print(f\"Original string: '{my_string}'\")\n",
        "print(f\"String without vowels: '{result_string}'\")\n",
        "# Output:\n",
        "# Original string: 'hello world'\n",
        "# String without vowels: 'hll wrld'"
      ],
      "metadata": {
        "id": "HqSweoRc-O6G"
      },
      "execution_count": null,
      "outputs": []
    },
    {
      "cell_type": "markdown",
      "source": [
        "11. Imagine an accounting routine used in a book shop. It works on a list with sublists, which look like this:\n",
        "\n",
        "- Write a Python program, which returns a list with 2-tuples. Each tuple consists of the order number and the\n",
        "product of the price per item and the quantity. The product should be increased by 10,- € if the value of the\n",
        "order is smaller than 100,00 €.\n",
        "\n",
        "- Write a Python program using lambda and map."
      ],
      "metadata": {
        "id": "0WYz2BgA-kSz"
      }
    },
    {
      "cell_type": "code",
      "source": [
        "orders = [\n",
        "    [34587, 'Learning Python, Mark Lutz', 4, 40.95],\n",
        "    [98762, 'Programming Python, Mark Lutz', 5, 56.80],\n",
        "    [77226, 'Head First Python, Paul Barry', 3, 32.95],\n",
        "    [88112, 'Einführung in Python3, Bernd Klein', 3, 24.99]\n",
        "    ]\n",
        "\n",
        "    # Use map() and a lambda function to process each order\n",
        "    # The lambda function calculates the total price and adds 10 if it's < 100\n",
        "    # It then returns a tuple (order_number, final_price)\n",
        "    invoices = list(map(lambda order: (order[0], order[2] * order[3] + 10 if order[2] * order[3] < 100 else order[2] * order[3]), orders))\n",
        "\n",
        "    # Print the resulting list of invoices\n",
        "    print(f\"Original orders:\\n{orders}\\n\")\n",
        "    print(f\"List of invoices:\\n{invoices}\")\n"
      ],
      "metadata": {
        "id": "tEVPU60--knb"
      },
      "execution_count": null,
      "outputs": []
    }
  ]
}